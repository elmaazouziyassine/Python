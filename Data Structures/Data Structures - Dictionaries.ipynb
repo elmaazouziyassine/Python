{
  "nbformat": 4,
  "nbformat_minor": 0,
  "metadata": {
    "colab": {
      "name": "Data Structures - Dictionaries.ipynb",
      "provenance": [],
      "authorship_tag": "ABX9TyOyT32JTpcngVcgFe0wbDTh",
      "include_colab_link": true
    },
    "kernelspec": {
      "name": "python3",
      "display_name": "Python 3"
    }
  },
  "cells": [
    {
      "cell_type": "markdown",
      "metadata": {
        "id": "view-in-github",
        "colab_type": "text"
      },
      "source": [
        "<a href=\"https://colab.research.google.com/github/elmaazouziyassine/Python/blob/master/Data%20Structures/Data%20Structures%20-%20Dictionaries.ipynb\" target=\"_parent\"><img src=\"https://colab.research.google.com/assets/colab-badge.svg\" alt=\"Open In Colab\"/></a>"
      ]
    },
    {
      "cell_type": "markdown",
      "metadata": {
        "id": "QZOwvwFap7GF",
        "colab_type": "text"
      },
      "source": [
        "# **Data Structures - Dictionaries**"
      ]
    },
    {
      "cell_type": "markdown",
      "metadata": {
        "id": "zjPodGU1qVuk",
        "colab_type": "text"
      },
      "source": [
        "##### **Definition**"
      ]
    },
    {
      "cell_type": "markdown",
      "metadata": {
        "id": "DHCp8ArJqbz4",
        "colab_type": "text"
      },
      "source": [
        "- A dictionary in Python is an unordered collection of items separated by\n",
        "commas and enclosed in curly braces. \n",
        "- Unlike other compound data types such as a list and a tuple which have only one value for an element, a dictionary has a pair of key and value separated by a colon. \n",
        "- An empty dictionary without values will have empty curly braces.\n",
        "- The values of a dictionary may be any data type, but the data type of the keys\n",
        "must be immutable such as numbers, strings, or tuples. \n",
        "- Dictionaries in Python are optimized to retrieve paired values using the element key."
      ]
    },
    {
      "cell_type": "markdown",
      "metadata": {
        "id": "uwrat1Qmq_iB",
        "colab_type": "text"
      },
      "source": [
        "##### **Creating a dictionary**"
      ]
    },
    {
      "cell_type": "code",
      "metadata": {
        "id": "nff0hAMDp1zW",
        "colab_type": "code",
        "outputId": "6fe5ad64-f4c9-4f5c-b84d-821df4ee37fc",
        "colab": {
          "base_uri": "https://localhost:8080/",
          "height": 52
        }
      },
      "source": [
        "empty_dict = {}\n",
        "integerkey_dict = {1: \"Mango\", 2: \"Apple\", 3: \"Orange\"}\n",
        "mixedkey_dict = {\"name\": \"John\", 0: [2, 4, 3]}\n",
        "print (integerkey_dict)\n",
        "print (mixedkey_dict)"
      ],
      "execution_count": 4,
      "outputs": [
        {
          "output_type": "stream",
          "text": [
            "{1: 'Mango', 2: 'Apple', 3: 'Orange'}\n",
            "{'name': 'John', 0: [2, 4, 3]}\n"
          ],
          "name": "stdout"
        }
      ]
    },
    {
      "cell_type": "markdown",
      "metadata": {
        "id": "a4ojrWEbqt20",
        "colab_type": "text"
      },
      "source": [
        "##### **Accessing values in a dictionary**"
      ]
    },
    {
      "cell_type": "markdown",
      "metadata": {
        "id": "B_a8h-PhSqpD",
        "colab_type": "text"
      },
      "source": [
        "- While we used indexes to access the values of strings, tuples, and lists, with\n",
        "dictionaries, we use keys. To access an element in a dictionary, we use a key\n",
        "inside a square bracket or the get() method.\n",
        "- If you use the square bracket method to access a key does not exist in the\n",
        "dictionary, it will return an KeyError but if you use the get() method it will\n",
        "return None instead.\n"
      ]
    },
    {
      "cell_type": "code",
      "metadata": {
        "id": "raRNC7wZqs06",
        "colab_type": "code",
        "outputId": "dac60691-f1a4-4551-d73a-1ddd7e371827",
        "colab": {
          "base_uri": "https://localhost:8080/",
          "height": 70
        }
      },
      "source": [
        "my_dict = {\"name\":\"John\", \"age\": 21, \"occupation\":\"Programmer\"}\n",
        "print (my_dict[\"name\"])\n",
        "print (my_dict.get('age'))\n",
        "work = my_dict.get(\"occupation\")\n",
        "print (work)"
      ],
      "execution_count": 5,
      "outputs": [
        {
          "output_type": "stream",
          "text": [
            "John\n",
            "21\n",
            "Programmer\n"
          ],
          "name": "stdout"
        }
      ]
    },
    {
      "cell_type": "markdown",
      "metadata": {
        "id": "zxkhyg_OrP0U",
        "colab_type": "text"
      },
      "source": [
        "##### **Updating a dictionary**"
      ]
    },
    {
      "cell_type": "code",
      "metadata": {
        "id": "uLNy2LG0rTBL",
        "colab_type": "code",
        "outputId": "0a0411da-ef31-49ca-edfa-e29e0d1c95b5",
        "colab": {
          "base_uri": "https://localhost:8080/",
          "height": 158
        }
      },
      "source": [
        "student = {\"name\": \"John Doe\", \"age\": 25, \"grade\": \"B+\"}\n",
        "print (\"Before update:\", student)\n",
        "print (\"\\nChange age to 30:\\nAdd Sex key:value pair\")\n",
        "student[\"age\"] = 30\n",
        "student[\"sex\"] = \"Male\"\n",
        "print (\"\\nAfter update:\", student)\n",
        "print (\"Delete grade entry:\")\n",
        "del student[\"grade\"]\n",
        "print (\"After deleting grade:\", student)"
      ],
      "execution_count": 6,
      "outputs": [
        {
          "output_type": "stream",
          "text": [
            "Before update: {'name': 'John Doe', 'age': 25, 'grade': 'B+'}\n",
            "\n",
            "Change age to 30:\n",
            "Add Sex key:value pair\n",
            "\n",
            "After update: {'name': 'John Doe', 'age': 30, 'grade': 'B+', 'sex': 'Male'}\n",
            "Delete grade entry:\n",
            "After deleting grade: {'name': 'John Doe', 'age': 30, 'sex': 'Male'}\n"
          ],
          "name": "stdout"
        }
      ]
    },
    {
      "cell_type": "markdown",
      "metadata": {
        "id": "Ut6APWQwrcMO",
        "colab_type": "text"
      },
      "source": [
        "##### **Deleting an element in a list**"
      ]
    },
    {
      "cell_type": "code",
      "metadata": {
        "id": "taei10SOsIIJ",
        "colab_type": "code",
        "outputId": "9aea7dbf-7a68-4067-c7e9-8f0daec7deb3",
        "colab": {
          "base_uri": "https://localhost:8080/",
          "height": 34
        }
      },
      "source": [
        "student = {\"name\": \"John Doe\", \"age\": 25, \"grade\": \"B+\"}\n",
        "del student[\"grade\"]\n",
        "print (\"After deleting grade:\", student)"
      ],
      "execution_count": 7,
      "outputs": [
        {
          "output_type": "stream",
          "text": [
            "After deleting grade: {'name': 'John Doe', 'age': 25}\n"
          ],
          "name": "stdout"
        }
      ]
    },
    {
      "cell_type": "markdown",
      "metadata": {
        "id": "Yj-YffJ0sa-3",
        "colab_type": "text"
      },
      "source": [
        "##### **Basic dictionary operations**"
      ]
    },
    {
      "cell_type": "markdown",
      "metadata": {
        "id": "ozGa2x5ws2uY",
        "colab_type": "text"
      },
      "source": [
        "##### **Built-in methods & functions to manipulate dictionaries**"
      ]
    },
    {
      "cell_type": "markdown",
      "metadata": {
        "id": "6Cu62fICs3xH",
        "colab_type": "text"
      },
      "source": [
        "FUNCTIONS :\n",
        "- cmp(dict1, dict2) Compares the elements of dict1 to those of dict2.\n",
        "- len(dict) Returns the total length of the dictionary (the number of items in the dictionary)\n",
        "- str(dict) Returns a printable string representation of the dictionary\n",
        "- type(variable) Returns the type of the passed variable.\n",
        "\n",
        "METHODS :\n",
        "- dict.clear() Removes all the elements of the dictionary dict\n",
        "- del my_dic : To delete the entire dicitionary. \n",
        "- dict.copy() Returns a shallow copy of the dictionary dict\n",
        "- dict.fromkeys() Creates a new dictionary with keys from seq with values set to value.\n",
        "- dict.get(x, default=None) : Returns the value of key x in the dict dictionary or default if the does not exist.\n",
        "- dict.has_key(x) Returns True if key x is in dictionary dict,otherwise False.\n",
        "- dict.items() Returns a list of dict's (key, value) pairs in tuple format.\n",
        "- dict.keys() Returns list of keys of the dict dictionary.\n",
        "- dict.setdefault(x, default=None) : Returns the value of key x in the dict dictionary or set dict[key]=default if key does not exist.\n",
        "- dict.update(dict2) Adds dictionary key:value pairs from dict to dict\n",
        "- dict.values() Returns a list of values from the dict dictionary.\n"
      ]
    },
    {
      "cell_type": "markdown",
      "metadata": {
        "id": "E8TeTq43UCWC",
        "colab_type": "text"
      },
      "source": [
        "##### **Properties of dictionary keys**"
      ]
    },
    {
      "cell_type": "markdown",
      "metadata": {
        "id": "1x8GjrEJUC4B",
        "colab_type": "text"
      },
      "source": [
        "While the values of a dictionary in Python have no restriction – they can be\n",
        "made up of any arbitrary objects or data types, which include standard or userdefined objects – keys are different. There are two vital points you must know\n",
        "about dictionary keys in Python:\n",
        "- You cannot enter more than one key in a dictionary. This means you\n",
        "cannot have duplicate keys in a single dictionary.\n",
        "- Unlike values, keys are immutable. This means you can use types such\n",
        "as strings, tuples, and strings as keys, but you cannot define a key\n",
        "using something like [“Key”)."
      ]
    }
  ]
}