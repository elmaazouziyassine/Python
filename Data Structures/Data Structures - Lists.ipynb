{
  "nbformat": 4,
  "nbformat_minor": 0,
  "metadata": {
    "colab": {
      "name": "Data Structures - Lists.ipynb",
      "provenance": [],
      "authorship_tag": "ABX9TyO3CMWm4MWibCIO2t1wCHIM",
      "include_colab_link": true
    },
    "kernelspec": {
      "name": "python3",
      "display_name": "Python 3"
    }
  },
  "cells": [
    {
      "cell_type": "markdown",
      "metadata": {
        "id": "view-in-github",
        "colab_type": "text"
      },
      "source": [
        "<a href=\"https://colab.research.google.com/github/elmaazouziyassine/Python/blob/master/Data%20Structures/Data%20Structures%20-%20Lists.ipynb\" target=\"_parent\"><img src=\"https://colab.research.google.com/assets/colab-badge.svg\" alt=\"Open In Colab\"/></a>"
      ]
    },
    {
      "cell_type": "markdown",
      "metadata": {
        "id": "QZOwvwFap7GF",
        "colab_type": "text"
      },
      "source": [
        "# **Data Structures - Lists**"
      ]
    },
    {
      "cell_type": "markdown",
      "metadata": {
        "id": "zjPodGU1qVuk",
        "colab_type": "text"
      },
      "source": [
        "##### **Definition**"
      ]
    },
    {
      "cell_type": "markdown",
      "metadata": {
        "id": "DHCp8ArJqbz4",
        "colab_type": "text"
      },
      "source": [
        "- A list is basically an ordered sequence of items. \n",
        "- In Python, lists are among the most popular sequence data types because they are flexible (the items do not need to be of the same type) and declaring them is quite easy.\n",
        "- Items in a list are enclosed within square brackets [ ] and are separated by commas.\n"
      ]
    },
    {
      "cell_type": "markdown",
      "metadata": {
        "id": "uwrat1Qmq_iB",
        "colab_type": "text"
      },
      "source": [
        "##### **Creating a list**"
      ]
    },
    {
      "cell_type": "code",
      "metadata": {
        "id": "nff0hAMDp1zW",
        "colab_type": "code",
        "colab": {
          "base_uri": "https://localhost:8080/",
          "height": 34
        },
        "outputId": "27404717-0bb1-442d-8d9f-f2754a61d7e9"
      },
      "source": [
        "empty_list = []\n",
        "weekdays = [\"Monday\", \"Tuesday\", \"Wednesday\", \"Thursday\", \"Friday\"]\n",
        "years = [2017, \"Two Thousand and Seventeen\", \"XXVII\", 20.17]\n",
        "favorites = [\"a\", \"x\", \"i\", \"xx\"]\n",
        "print (years)"
      ],
      "execution_count": 9,
      "outputs": [
        {
          "output_type": "stream",
          "text": [
            "[2017, 'Two Thousand and Seventeen', 'XXVII', 20.17]\n"
          ],
          "name": "stdout"
        }
      ]
    },
    {
      "cell_type": "markdown",
      "metadata": {
        "id": "a4ojrWEbqt20",
        "colab_type": "text"
      },
      "source": [
        "##### **Accessing values in a list**"
      ]
    },
    {
      "cell_type": "code",
      "metadata": {
        "id": "raRNC7wZqs06",
        "colab_type": "code",
        "colab": {
          "base_uri": "https://localhost:8080/",
          "height": 87
        },
        "outputId": "1f99b7ba-152b-4c41-f76c-c1427d3ccbd8"
      },
      "source": [
        "months = [\"Jan\", \"Feb\", \"Mar\", \"Apr\", \"May\", \"Jun\", \"Jul\", \"Aug\", \"Sep\", \"Oct\", \"Nov\", \"Dec\"]\n",
        "print (\"The first month is\", months[0])\n",
        "print (\"The 5th to 9th months are\", months[4:9])\n",
        "print (\"The second last month is\", months[-2])\n",
        "print (months[6:], \"make up the last half of the year\")"
      ],
      "execution_count": 10,
      "outputs": [
        {
          "output_type": "stream",
          "text": [
            "The first month is Jan\n",
            "The 5th to 9th months are ['May', 'Jun', 'Jul', 'Aug', 'Sep']\n",
            "The second last month is Nov\n",
            "['Jul', 'Aug', 'Sep', 'Oct', 'Nov', 'Dec'] make up the last half of the year\n"
          ],
          "name": "stdout"
        }
      ]
    },
    {
      "cell_type": "markdown",
      "metadata": {
        "id": "zxkhyg_OrP0U",
        "colab_type": "text"
      },
      "source": [
        "##### **Updating a list**"
      ]
    },
    {
      "cell_type": "code",
      "metadata": {
        "id": "uLNy2LG0rTBL",
        "colab_type": "code",
        "colab": {
          "base_uri": "https://localhost:8080/",
          "height": 52
        },
        "outputId": "dedae6e9-e142-433c-a274-c740dd7561ef"
      },
      "source": [
        "subjects = [\"Math\", \"Physics\", \"Chemistry\"]\n",
        "print (\"List of subjects:\", subjects)\n",
        "\n",
        "subjects[2] = \"Biology\"\n",
        "\n",
        "print (\"New list of subjects: \", subjects)"
      ],
      "execution_count": 11,
      "outputs": [
        {
          "output_type": "stream",
          "text": [
            "List of subjects: ['Math', 'Physics', 'Chemistry']\n",
            "New list of subjects:  ['Math', 'Physics', 'Biology']\n"
          ],
          "name": "stdout"
        }
      ]
    },
    {
      "cell_type": "markdown",
      "metadata": {
        "id": "Ut6APWQwrcMO",
        "colab_type": "text"
      },
      "source": [
        "##### **Deleting an element in a list**"
      ]
    },
    {
      "cell_type": "markdown",
      "metadata": {
        "id": "Je6pm4d_r9Ly",
        "colab_type": "text"
      },
      "source": [
        "2 ways to delete an element in a list: \n",
        "- del statement if you know the exact element or elements you wish to delete or \n",
        "- remove() method if you do not."
      ]
    },
    {
      "cell_type": "code",
      "metadata": {
        "id": "taei10SOsIIJ",
        "colab_type": "code",
        "colab": {
          "base_uri": "https://localhost:8080/",
          "height": 70
        },
        "outputId": "48d1af2c-9178-4f46-8650-874c91460bb0"
      },
      "source": [
        "subjects = [\"Math\", \"Physics\", \"Chemistry\", \"Biology\", \"History\"]\n",
        "print (\"List of subjects:\", subjects)\n",
        "\n",
        "del subjects[2]\n",
        "print (\"New list of subjects after del: \", subjects)\n",
        "\n",
        "subjects.remove(\"Physics\")\n",
        "print (\"New list of subjects after subjects.remove:\", subjects)"
      ],
      "execution_count": 12,
      "outputs": [
        {
          "output_type": "stream",
          "text": [
            "List of subjects: ['Math', 'Physics', 'Chemistry', 'Biology', 'History']\n",
            "New list of subjects after del:  ['Math', 'Physics', 'Biology', 'History']\n",
            "New list of subjects after subjects.remove: ['Math', 'Biology', 'History']\n"
          ],
          "name": "stdout"
        }
      ]
    },
    {
      "cell_type": "markdown",
      "metadata": {
        "id": "Yj-YffJ0sa-3",
        "colab_type": "text"
      },
      "source": [
        "##### **Basic list operations**"
      ]
    },
    {
      "cell_type": "markdown",
      "metadata": {
        "id": "MxL8Pmk8sjFT",
        "colab_type": "text"
      },
      "source": [
        "- Just like strings, lists can be manipulated using operators such as + to\n",
        "concatenate and * to iterate. \n",
        "- Generally speaking, lists respond to all the general sequence operations that we used on strings."
      ]
    },
    {
      "cell_type": "code",
      "metadata": {
        "id": "k2OibgRXso5B",
        "colab_type": "code",
        "colab": {
          "base_uri": "https://localhost:8080/",
          "height": 34
        },
        "outputId": "de4dc568-1af7-4790-806c-336c619fb60f"
      },
      "source": [
        "fruits = [\"Mango\", \"Banana\", \"Orange\", \"Apple\", \"Pear\"]\n",
        "print (\"The length of the fruits list is\", len(fruits))"
      ],
      "execution_count": 13,
      "outputs": [
        {
          "output_type": "stream",
          "text": [
            "The length of the fruits list is 5\n"
          ],
          "name": "stdout"
        }
      ]
    },
    {
      "cell_type": "code",
      "metadata": {
        "id": "NjsK6T0nsrCS",
        "colab_type": "code",
        "colab": {
          "base_uri": "https://localhost:8080/",
          "height": 122
        },
        "outputId": "51bfa248-d94e-4bbf-8f70-37caf939bc1e"
      },
      "source": [
        "numbers1 = [1, 2, \"three\", 4]\n",
        "numbers2 = [7, \"x\", \"p\", 10]\n",
        "numbers = numbers1 + numbers2\n",
        "print (numbers)\n",
        "print (numbers1 * 2)\n",
        "print (10 in numbers2)\n",
        "for x in [1, 2, 3]: print (x)"
      ],
      "execution_count": 14,
      "outputs": [
        {
          "output_type": "stream",
          "text": [
            "[1, 2, 'three', 4, 7, 'x', 'p', 10]\n",
            "[1, 2, 'three', 4, 1, 2, 'three', 4]\n",
            "True\n",
            "1\n",
            "2\n",
            "3\n"
          ],
          "name": "stdout"
        }
      ]
    },
    {
      "cell_type": "markdown",
      "metadata": {
        "id": "ozGa2x5ws2uY",
        "colab_type": "text"
      },
      "source": [
        "##### **Built-in methods & functions to manipulate lists**"
      ]
    },
    {
      "cell_type": "markdown",
      "metadata": {
        "id": "6Cu62fICs3xH",
        "colab_type": "text"
      },
      "source": [
        "FUNCTIONS\n",
        "- cmp(list1, list2) : Compares the elements of two lists.\n",
        "- len(list) : Returns the total length of the list.\n",
        "- max(list) : Returns the item with max value from the list.\n",
        "- min(list) : Returns the item with min value from the list.\n",
        "- list(seq) : Converts a tuple into list.\n",
        "\n",
        "METHODS\n",
        "- list.append(x) : Appends an object x to list\n",
        "- list.count(x) : Returns the count of how many times x occurs in list\n",
        "- list.extend(seq) : Appends the contents of seq to list\n",
        "- list.index(x) : Returns the lowest index in list that x appears\n",
        "- list.insert(index, x) : Inserts object x into list at the specified index\n",
        "- list.pop(x=list[-1]) : Removes and returns last object or x from list\n",
        "- list.remove(x) : Removes object x from list\n",
        "- list.reverse() : Reverses the list of objects\n",
        "- list.sort([func]) : Sorts objects of list using compare func (if provided)\n"
      ]
    }
  ]
}