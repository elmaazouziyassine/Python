{
  "nbformat": 4,
  "nbformat_minor": 0,
  "metadata": {
    "colab": {
      "name": "Data Structures - Tuples.ipynb",
      "provenance": [],
      "authorship_tag": "ABX9TyOli5sed48ZKnqIjhFZ4Iif",
      "include_colab_link": true
    },
    "kernelspec": {
      "name": "python3",
      "display_name": "Python 3"
    }
  },
  "cells": [
    {
      "cell_type": "markdown",
      "metadata": {
        "id": "view-in-github",
        "colab_type": "text"
      },
      "source": [
        "<a href=\"https://colab.research.google.com/github/elmaazouziyassine/Python/blob/master/Data%20Structures/Data%20Structures%20-%20Tuples.ipynb\" target=\"_parent\"><img src=\"https://colab.research.google.com/assets/colab-badge.svg\" alt=\"Open In Colab\"/></a>"
      ]
    },
    {
      "cell_type": "markdown",
      "metadata": {
        "id": "QZOwvwFap7GF",
        "colab_type": "text"
      },
      "source": [
        "# **Data Structures - Tuples**"
      ]
    },
    {
      "cell_type": "markdown",
      "metadata": {
        "id": "zjPodGU1qVuk",
        "colab_type": "text"
      },
      "source": [
        "##### **Definition**"
      ]
    },
    {
      "cell_type": "markdown",
      "metadata": {
        "id": "DHCp8ArJqbz4",
        "colab_type": "text"
      },
      "source": [
        "- Similar to list, a tuple is an ordered sequence of items. \n",
        "- The only difference between a Tuple and a List is that a tuple is immutable. This means that once it has been created, it cannot be modified.\n",
        "- Tuples are used to create write-protected data. Because they are not dynamic,\n",
        "they are often faster than lists. \n",
        "- A tuple is defined within parentheses () and the values are separated by commas. \n",
        "- Like lists, a tuple can contain values of different data types.\n",
        "- Just like strings and lists, the values within a tuples are references with indices that start at 0 and can be concatenated, sliced, and so on."
      ]
    },
    {
      "cell_type": "markdown",
      "metadata": {
        "id": "uwrat1Qmq_iB",
        "colab_type": "text"
      },
      "source": [
        "##### **Creating a tuple**"
      ]
    },
    {
      "cell_type": "code",
      "metadata": {
        "id": "nff0hAMDp1zW",
        "colab_type": "code",
        "colab": {}
      },
      "source": [
        "tuple1 = (5, \"2020\", 1+3j)\n",
        "tuple2 = (1, 2, 3, 4, 5)\n",
        "empty_tuple = ()\n",
        "year = (2017,)            # To create a tuple with only one value, it must include a comma"
      ],
      "execution_count": 0,
      "outputs": []
    },
    {
      "cell_type": "markdown",
      "metadata": {
        "id": "a4ojrWEbqt20",
        "colab_type": "text"
      },
      "source": [
        "##### **Accessing values in a tuple**"
      ]
    },
    {
      "cell_type": "code",
      "metadata": {
        "id": "raRNC7wZqs06",
        "colab_type": "code",
        "outputId": "9cb53426-a820-46d2-a8a0-52539ef740bf",
        "colab": {
          "base_uri": "https://localhost:8080/",
          "height": 70
        }
      },
      "source": [
        "continents = (\"Asia\", \"Africa\", \"Americas\", \"Europe\", \"Australia\")\n",
        "print (\"continents[0]:\", continents[0])\n",
        "print (\"continents[2:]\", continents[2:])\n",
        "print (\"continents[:-3]\", continents[:-3])"
      ],
      "execution_count": 6,
      "outputs": [
        {
          "output_type": "stream",
          "text": [
            "continents[0]: Asia\n",
            "continents[2:] ('Americas', 'Europe', 'Australia')\n",
            "continents[:-3] ('Asia', 'Africa')\n"
          ],
          "name": "stdout"
        }
      ]
    },
    {
      "cell_type": "markdown",
      "metadata": {
        "id": "zxkhyg_OrP0U",
        "colab_type": "text"
      },
      "source": [
        "##### **Updating a tuple**"
      ]
    },
    {
      "cell_type": "markdown",
      "metadata": {
        "id": "IRTzd-TKQsVP",
        "colab_type": "text"
      },
      "source": [
        "- Tuples are immutable, which means that the tuple elements or values between\n",
        "the brackets cannot be changed or updated. However, you can take the values\n",
        "from an existing tuple and create a new tuple."
      ]
    },
    {
      "cell_type": "code",
      "metadata": {
        "id": "uLNy2LG0rTBL",
        "colab_type": "code",
        "outputId": "c8931bbc-fbb3-4be8-dcd7-015fcae21937",
        "colab": {
          "base_uri": "https://localhost:8080/",
          "height": 34
        }
      },
      "source": [
        "continents = (\"Asia\", \"Africa\", \"Americas\", \"Europe\", \"Australia\")\n",
        "continents2 = (\"Antarctica\",)\n",
        "all_continents = continents + continents2\n",
        "print (all_continents)"
      ],
      "execution_count": 7,
      "outputs": [
        {
          "output_type": "stream",
          "text": [
            "('Asia', 'Africa', 'Americas', 'Europe', 'Australia', 'Antarctica')\n"
          ],
          "name": "stdout"
        }
      ]
    },
    {
      "cell_type": "markdown",
      "metadata": {
        "id": "Ut6APWQwrcMO",
        "colab_type": "text"
      },
      "source": [
        "##### **Deleting tuple elements**"
      ]
    },
    {
      "cell_type": "markdown",
      "metadata": {
        "id": "Je6pm4d_r9Ly",
        "colab_type": "text"
      },
      "source": [
        "- It is not possible to remove individual values of a tuple. Therefore, the only\n",
        "option, as we saw with updating tuple values, is to create\n",
        "another tuple from the values of an existing tuple, discarding the undesired\n",
        "elements.\n",
        "- To delete an entire tuple, you can use the del statement."
      ]
    },
    {
      "cell_type": "code",
      "metadata": {
        "id": "taei10SOsIIJ",
        "colab_type": "code",
        "colab": {}
      },
      "source": [
        "my_tuple = (1,2,3)\n",
        "del my_tuple"
      ],
      "execution_count": 0,
      "outputs": []
    },
    {
      "cell_type": "markdown",
      "metadata": {
        "id": "Yj-YffJ0sa-3",
        "colab_type": "text"
      },
      "source": [
        "##### **Basic tuple operations**"
      ]
    },
    {
      "cell_type": "markdown",
      "metadata": {
        "id": "MxL8Pmk8sjFT",
        "colab_type": "text"
      },
      "source": [
        "- Tuples respond to most operators we used on strings and lists including + for concatenation and * for iteration."
      ]
    },
    {
      "cell_type": "markdown",
      "metadata": {
        "id": "ozGa2x5ws2uY",
        "colab_type": "text"
      },
      "source": [
        "##### **Built-in methods & functions to manipulate tuples**"
      ]
    }
  ]
}