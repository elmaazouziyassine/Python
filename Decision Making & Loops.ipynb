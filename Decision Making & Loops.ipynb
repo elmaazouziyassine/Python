{
  "nbformat": 4,
  "nbformat_minor": 0,
  "metadata": {
    "colab": {
      "name": "Decision Making & Loops.ipynb",
      "provenance": [],
      "authorship_tag": "ABX9TyOmvLfHk/Pc3mCJJn/6CdMH",
      "include_colab_link": true
    },
    "kernelspec": {
      "name": "python3",
      "display_name": "Python 3"
    }
  },
  "cells": [
    {
      "cell_type": "markdown",
      "metadata": {
        "id": "view-in-github",
        "colab_type": "text"
      },
      "source": [
        "<a href=\"https://colab.research.google.com/github/elmaazouziyassine/Python/blob/master/Decision%20Making%20%26%20Loops.ipynb\" target=\"_parent\"><img src=\"https://colab.research.google.com/assets/colab-badge.svg\" alt=\"Open In Colab\"/></a>"
      ]
    },
    {
      "cell_type": "markdown",
      "metadata": {
        "id": "QZOwvwFap7GF",
        "colab_type": "text"
      },
      "source": [
        "# **Decision Making & Loops**"
      ]
    },
    {
      "cell_type": "markdown",
      "metadata": {
        "id": "zjPodGU1qVuk",
        "colab_type": "text"
      },
      "source": [
        "### **Definition**"
      ]
    },
    {
      "cell_type": "markdown",
      "metadata": {
        "id": "uwrat1Qmq_iB",
        "colab_type": "text"
      },
      "source": [
        "### **The if statement**"
      ]
    },
    {
      "cell_type": "code",
      "metadata": {
        "id": "nff0hAMDp1zW",
        "colab_type": "code",
        "outputId": "0b43afa9-fed0-4e3d-a66c-1fec096c529f",
        "colab": {
          "base_uri": "https://localhost:8080/",
          "height": 34
        }
      },
      "source": [
        "x = 10\n",
        "if x == 10:\n",
        "  print (\"x = 10\")"
      ],
      "execution_count": 14,
      "outputs": [
        {
          "output_type": "stream",
          "text": [
            "x = 10\n"
          ],
          "name": "stdout"
        }
      ]
    },
    {
      "cell_type": "markdown",
      "metadata": {
        "id": "a4ojrWEbqt20",
        "colab_type": "text"
      },
      "source": [
        "### **The if… else statement**"
      ]
    },
    {
      "cell_type": "code",
      "metadata": {
        "id": "raRNC7wZqs06",
        "colab_type": "code",
        "outputId": "882e344e-0763-43b6-8ec4-9bf87f0b9741",
        "colab": {
          "base_uri": "https://localhost:8080/",
          "height": 34
        }
      },
      "source": [
        "x, y = 12, 12\n",
        "if (x == y):\n",
        "  print (\"x is equal to y\")\n",
        "else:\n",
        "  print (\"x is not equal to y\")"
      ],
      "execution_count": 15,
      "outputs": [
        {
          "output_type": "stream",
          "text": [
            "x is equal to y\n"
          ],
          "name": "stdout"
        }
      ]
    },
    {
      "cell_type": "markdown",
      "metadata": {
        "id": "zxkhyg_OrP0U",
        "colab_type": "text"
      },
      "source": [
        "### **The if...elif...else statement**"
      ]
    },
    {
      "cell_type": "code",
      "metadata": {
        "id": "uLNy2LG0rTBL",
        "colab_type": "code",
        "outputId": "13123f62-02a6-457f-e213-a8704b83a689",
        "colab": {
          "base_uri": "https://localhost:8080/",
          "height": 52
        }
      },
      "source": [
        "age = int(input(\"Enter age to evaluate:\"))\n",
        "if age >= 18:\n",
        "  agegroup = \"Adult\"\n",
        "elif age >= 13:\n",
        "  agegroup = \"Teenager\"\n",
        "elif age >=0:\n",
        "  agegroup = \"Child\"\n",
        "else:\n",
        "  agegroup = \"Invalid\"\n",
        "print (agegroup)"
      ],
      "execution_count": 16,
      "outputs": [
        {
          "output_type": "stream",
          "text": [
            "Enter age to evaluate:10\n",
            "Child\n"
          ],
          "name": "stdout"
        }
      ]
    },
    {
      "cell_type": "markdown",
      "metadata": {
        "id": "Ut6APWQwrcMO",
        "colab_type": "text"
      },
      "source": [
        "### **Nested if statement**"
      ]
    },
    {
      "cell_type": "code",
      "metadata": {
        "id": "taei10SOsIIJ",
        "colab_type": "code",
        "outputId": "85d19edb-948c-4095-baf7-22ec53839e94",
        "colab": {
          "base_uri": "https://localhost:8080/",
          "height": 52
        }
      },
      "source": [
        "number = float(input(\"Enter a number to evaluate: \"))\n",
        "if number >= 0:\n",
        "  if number == 0:\n",
        "    print (number, \"is a Zero\")\n",
        "  else:\n",
        "    print (number, \"is a positive number\")\n",
        "else:\n",
        "  print (number, \"is a negative number\")"
      ],
      "execution_count": 17,
      "outputs": [
        {
          "output_type": "stream",
          "text": [
            "Enter a number to evaluate: 10\n",
            "10.0 is a positive number\n"
          ],
          "name": "stdout"
        }
      ]
    },
    {
      "cell_type": "markdown",
      "metadata": {
        "id": "hyPczaAiZWzz",
        "colab_type": "text"
      },
      "source": [
        "### **For Loop**"
      ]
    },
    {
      "cell_type": "code",
      "metadata": {
        "id": "k2OibgRXso5B",
        "colab_type": "code",
        "outputId": "7ee3205b-4257-4266-81e5-4e9dcb126a5d",
        "colab": {
          "base_uri": "https://localhost:8080/",
          "height": 34
        }
      },
      "source": [
        "numbers = [3, 9, 16, 7, 8, 2, 5, 4, 10]         #List of numbers\n",
        "sum = 0                                         #variable to store the sum\n",
        "for val in numbers:                             #iterate over the list\n",
        "  sum = sum + val\n",
        "print (\"The sum is\", sum)"
      ],
      "execution_count": 18,
      "outputs": [
        {
          "output_type": "stream",
          "text": [
            "The sum is 64\n"
          ],
          "name": "stdout"
        }
      ]
    },
    {
      "cell_type": "markdown",
      "metadata": {
        "id": "vuzDIVhRZmlN",
        "colab_type": "text"
      },
      "source": [
        "- The range() function can be used to generate a sequence of numbers. \n",
        "- For instance range(10) will generate a list of 10 numbers between 0 and 9.\n",
        "- You can use start, stop, and step size to define the parameters of the numbers\n",
        "to generate on the go or leave out the parameters to use the defaults which is 1."
      ]
    },
    {
      "cell_type": "code",
      "metadata": {
        "id": "NjsK6T0nsrCS",
        "colab_type": "code",
        "outputId": "4928b0d9-02f8-42a9-c2cb-81fb6f3aa273",
        "colab": {
          "base_uri": "https://localhost:8080/",
          "height": 122
        }
      },
      "source": [
        "total = 0\n",
        "for x in range(10,20,2):\n",
        "  total = total + x\n",
        "  print (x)\n",
        "print (\"The totals is:\", total)"
      ],
      "execution_count": 19,
      "outputs": [
        {
          "output_type": "stream",
          "text": [
            "10\n",
            "12\n",
            "14\n",
            "16\n",
            "18\n",
            "The totals is: 70\n"
          ],
          "name": "stdout"
        }
      ]
    },
    {
      "cell_type": "markdown",
      "metadata": {
        "id": "8NQMauc6ZvUk",
        "colab_type": "text"
      },
      "source": [
        "### **For Else Loop**"
      ]
    },
    {
      "cell_type": "markdown",
      "metadata": {
        "id": "Ev-LECcfaMjY",
        "colab_type": "text"
      },
      "source": [
        "- Just as we learnt in the previous chapter that the if decision making structure can have an else block, the for loop can have the else part as well. With this iteration structure, the else part is executed if the items in the sequence defined in the for loop are exhausted.\n",
        "- we will learn about the break statement which is used to stop a loop. When the break statement is used in the for loop, the else block will be ignored. -This means that the else part of the for loop will only run if no\n",
        "break of the loop occurs.\n"
      ]
    },
    {
      "cell_type": "code",
      "metadata": {
        "id": "B9I7S87naPs8",
        "colab_type": "code",
        "colab": {
          "base_uri": "https://localhost:8080/",
          "height": 158
        },
        "outputId": "4c4beeb8-10ea-4fe4-b595-65b3314930f2"
      },
      "source": [
        "numbers = [0, 1, 3, 5, 6, 9, 10]\n",
        "for i in numbers:\n",
        "  print (i)\n",
        "else:\n",
        "  print(\"No more numbers to print.\")"
      ],
      "execution_count": 20,
      "outputs": [
        {
          "output_type": "stream",
          "text": [
            "0\n",
            "1\n",
            "3\n",
            "5\n",
            "6\n",
            "9\n",
            "10\n",
            "No more numbers to print.\n"
          ],
          "name": "stdout"
        }
      ]
    },
    {
      "cell_type": "markdown",
      "metadata": {
        "id": "k0jBSTvOaZT1",
        "colab_type": "text"
      },
      "source": [
        "### **While Loop**"
      ]
    },
    {
      "cell_type": "markdown",
      "metadata": {
        "id": "HWIpKVmWadhK",
        "colab_type": "text"
      },
      "source": [
        "The while loop tests a condition (an expression) and as long as it\n",
        "returns TRUE, a block of code will be executed. This loop is used when the\n",
        "number of times the block of code will be iterated before the condition tests\n",
        "FALSE is not known beforehand.\n"
      ]
    },
    {
      "cell_type": "code",
      "metadata": {
        "id": "3n8kJOy6ajkL",
        "colab_type": "code",
        "colab": {
          "base_uri": "https://localhost:8080/",
          "height": 228
        },
        "outputId": "be88bab6-4d90-46ac-8124-81b2c54776dc"
      },
      "source": [
        "x = int(input(\"Enter a value for x: \"))\n",
        "sum = 0\n",
        "i = 1\n",
        "\n",
        "while i <= x:\n",
        "  sum = sum + i\n",
        "  print (sum)\n",
        "  i = i + 1 # update counter\n",
        "\n",
        "print (\"The total sum is\", sum)"
      ],
      "execution_count": 21,
      "outputs": [
        {
          "output_type": "stream",
          "text": [
            "Enter a value for x: 10\n",
            "1\n",
            "3\n",
            "6\n",
            "10\n",
            "15\n",
            "21\n",
            "28\n",
            "36\n",
            "45\n",
            "55\n",
            "The total sum is 55\n"
          ],
          "name": "stdout"
        }
      ]
    },
    {
      "cell_type": "markdown",
      "metadata": {
        "id": "p7zMGJLbaoS5",
        "colab_type": "text"
      },
      "source": [
        "### **While…else Loop**"
      ]
    },
    {
      "cell_type": "code",
      "metadata": {
        "id": "ZwI51yn4aqud",
        "colab_type": "code",
        "colab": {
          "base_uri": "https://localhost:8080/",
          "height": 228
        },
        "outputId": "2cbf72cb-b93b-4be6-eea8-2f92eaa32b7e"
      },
      "source": [
        "loops = int(input(\"Enter the number of times to loop: \"))\n",
        "counter = 0\n",
        "while counter < loops:\n",
        "  counter = counter + 1\n",
        "  print (\"Iterations so far:\", counter)\n",
        "else:\n",
        "  print(\"Maximum loops of\", loops, \"reached\")"
      ],
      "execution_count": 23,
      "outputs": [
        {
          "output_type": "stream",
          "text": [
            "Enter the number of times to loop: 10\n",
            "Iterations so far: 1\n",
            "Iterations so far: 2\n",
            "Iterations so far: 3\n",
            "Iterations so far: 4\n",
            "Iterations so far: 5\n",
            "Iterations so far: 6\n",
            "Iterations so far: 7\n",
            "Iterations so far: 8\n",
            "Iterations so far: 9\n",
            "Iterations so far: 10\n",
            "Maximum loops of 10 reached\n"
          ],
          "name": "stdout"
        }
      ]
    },
    {
      "cell_type": "markdown",
      "metadata": {
        "id": "nd1nYkDNaxuG",
        "colab_type": "text"
      },
      "source": [
        "### **Loop Control Statements**"
      ]
    },
    {
      "cell_type": "markdown",
      "metadata": {
        "id": "Gu4kWi-tazAp",
        "colab_type": "text"
      },
      "source": [
        "- The break, continue, and pass statements in Python can be used to alter the\n",
        "flow of a normal loop, altering the sequence of statement execution. \n",
        "- Simply put, these statements are used to terminate an iteration without checking the test condition. When execution leaves a loop, all objects created in the loop are destroyed.\n"
      ]
    },
    {
      "cell_type": "markdown",
      "metadata": {
        "id": "RTxOP1r4a6f9",
        "colab_type": "text"
      },
      "source": [
        "##### **The Break Statement**"
      ]
    },
    {
      "cell_type": "markdown",
      "metadata": {
        "id": "E5uPuNe0a813",
        "colab_type": "text"
      },
      "source": [
        "The break statement terminates the loop containing it and causes the statement\n",
        "immediately following the body of the loop to be executed next. If the break\n",
        "statement is used inside a nested loop, it will only terminate the innermost\n",
        "loop.\n"
      ]
    },
    {
      "cell_type": "code",
      "metadata": {
        "id": "jRF22U06a_sx",
        "colab_type": "code",
        "colab": {
          "base_uri": "https://localhost:8080/",
          "height": 175
        },
        "outputId": "af34c503-4fe6-40a5-e9be-9929b931e210"
      },
      "source": [
        "for val in \"Hello World!\":\n",
        "  if val == \"r\":\n",
        "    break\n",
        "  print (val)\n",
        "\n",
        "print (\"Search letter 'r' found!\")"
      ],
      "execution_count": 24,
      "outputs": [
        {
          "output_type": "stream",
          "text": [
            "H\n",
            "e\n",
            "l\n",
            "l\n",
            "o\n",
            " \n",
            "W\n",
            "o\n",
            "Search letter 'r' found!\n"
          ],
          "name": "stdout"
        }
      ]
    },
    {
      "cell_type": "markdown",
      "metadata": {
        "id": "1I3_sZPcbFe2",
        "colab_type": "text"
      },
      "source": [
        "##### **The Continue Statement**"
      ]
    },
    {
      "cell_type": "markdown",
      "metadata": {
        "id": "kaMwQunlbHnc",
        "colab_type": "text"
      },
      "source": [
        "The continue statement is used to skip the remainder of the code within the\n",
        "loop body for the current iteration only. Unlike break, continue does not\n",
        "terminate the loop; the test condition will be rechecked again prior to\n",
        "reiteration"
      ]
    },
    {
      "cell_type": "code",
      "metadata": {
        "id": "oVeVgascbI84",
        "colab_type": "code",
        "colab": {
          "base_uri": "https://localhost:8080/",
          "height": 228
        },
        "outputId": "62e05e8c-56ca-4134-975e-f636f7244e8d"
      },
      "source": [
        "for val in \"Hello World!\":\n",
        "  if val == \"r\":\n",
        "    continue\n",
        "  print (val)\n",
        "\n",
        "print (\"Search letter 'r' found!\")"
      ],
      "execution_count": 25,
      "outputs": [
        {
          "output_type": "stream",
          "text": [
            "H\n",
            "e\n",
            "l\n",
            "l\n",
            "o\n",
            " \n",
            "W\n",
            "o\n",
            "l\n",
            "d\n",
            "!\n",
            "Search letter 'r' found!\n"
          ],
          "name": "stdout"
        }
      ]
    },
    {
      "cell_type": "markdown",
      "metadata": {
        "id": "oOCg18R2bMPn",
        "colab_type": "text"
      },
      "source": [
        "##### **The Pass Statement**"
      ]
    },
    {
      "cell_type": "markdown",
      "metadata": {
        "id": "8j5dfBejbNzX",
        "colab_type": "text"
      },
      "source": [
        "- In Python, when a statement is syntactically required in the code but you do not want it executed, you can use the pass statement to have it skipped. We can say that pass is a null statement or a placeholder for future implementation of a line or block of code such as in loops or functions.\n",
        "- Pass is different from a comment that is marked with #. While the interpreter\n",
        "completely ignores a comment, the pass statement is not ignored; it just is not\n",
        "executed. It results in no operation (NOP).\n"
      ]
    },
    {
      "cell_type": "code",
      "metadata": {
        "id": "azunTMTqbPkt",
        "colab_type": "code",
        "colab": {}
      },
      "source": [
        "class Myclass:\n",
        "  pass\n",
        "\n",
        "def my_function(args):\n",
        "  pass"
      ],
      "execution_count": 0,
      "outputs": []
    }
  ]
}